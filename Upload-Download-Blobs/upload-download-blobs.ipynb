{
  "cells": [
    {
      "cell_type": "markdown",
      "source": [
        "# Tutorial: Upload and download blobs from a container\r\n",
        "This tutorial uses the latest version of azure-blob-storage(v12.14.1) and demonstrate how to upload and download blobs. "
      ],
      "metadata": {
        "nteract": {
          "transient": {
            "deleting": false
          }
        }
      }
    },
    {
      "cell_type": "code",
      "source": [
        "# set connection string of the storage in the environment \r\n",
        "import os\r\n",
        "os.environ['AZURE_STORAGE_CONNECTION_STRING']=\"your storage connection string\"\r\n",
        "container_name = 'data'\r\n",
        "blob_folder = os.path.join(os.getcwd(), container_name+\"-blobs\")\r\n",
        "os.makedirs(blob_folder, exist_ok=True)"
      ],
      "outputs": [],
      "execution_count": null,
      "metadata": {
        "jupyter": {
          "source_hidden": false,
          "outputs_hidden": false
        },
        "nteract": {
          "transient": {
            "deleting": false
          }
        },
        "gather": {
          "logged": 1668158730524
        }
      }
    },
    {
      "cell_type": "markdown",
      "source": [
        "## Download the files from a container "
      ],
      "metadata": {
        "nteract": {
          "transient": {
            "deleting": false
          }
        }
      }
    },
    {
      "cell_type": "code",
      "source": [
        "import os, uuid\r\n",
        "from azure.storage.blob import BlobServiceClient, BlobClient, ContainerClient, __version__\r\n",
        "\r\n",
        "try:\r\n",
        "    print(\"Azure Blob Storage v\" + __version__ + \" - Python quickstart sample\")\r\n",
        "    connect_str = os.getenv('AZURE_STORAGE_CONNECTION_STRING')\r\n",
        "\r\n",
        "    print(\"\\nListing blobs...\")\r\n",
        "\r\n",
        "    blob_service_client = BlobServiceClient.from_connection_string(connect_str)\r\n",
        "    container_client = blob_service_client.get_container_client(container_name)\r\n",
        "    # List the blobs in the container\r\n",
        "    blob_list = container_client.list_blobs()\r\n",
        "\r\n",
        "    for blob in blob_list:\r\n",
        "        print(\"\\t\" + blob.name)\r\n",
        "        download_file_path = os.path.join(blob_folder, blob.name)\r\n",
        "        with open(download_file_path, \"wb\") as download_file:\r\n",
        "            download_file.write(container_client.download_blob(blob.name).readall())\r\n",
        "            print( blob.name + \" downloaded\")\r\n",
        "\r\n",
        "except Exception as ex:\r\n",
        "    print('Exception:')\r\n",
        "    print(ex)"
      ],
      "outputs": [],
      "execution_count": null,
      "metadata": {
        "jupyter": {
          "source_hidden": false,
          "outputs_hidden": false
        },
        "nteract": {
          "transient": {
            "deleting": false
          }
        },
        "gather": {
          "logged": 1668156532762
        }
      }
    },
    {
      "cell_type": "markdown",
      "source": [
        "# Upload a file into a container"
      ],
      "metadata": {
        "nteract": {
          "transient": {
            "deleting": false
          }
        }
      }
    },
    {
      "cell_type": "code",
      "source": [
        "from azure.storage.blob import BlobServiceClient, BlobClient, ContainerClient, __version__\r\n",
        "try:\r\n",
        "    print(\"Azure Blob Storage v\" + __version__ + \" - Python quickstart sample\")\r\n",
        "    connect_str = os.getenv('AZURE_STORAGE_CONNECTION_STRING')\r\n",
        "\r\n",
        "    file_name = 'A file name'\r\n",
        "    upload_file_path = os.path.join(os.getcwd(), file_name)\r\n",
        "    \r\n",
        "    blob_service_client = BlobServiceClient.from_connection_string(connect_str)\r\n",
        "    blob_client = blob_service_client.get_blob_client(container=container_name, blob=file_name)\r\n",
        "\r\n",
        "    print(\"\\nUploading to Azure Storage as blob:\\n\\t\" + file_name)\r\n",
        "\r\n",
        "    # Upload the created file\r\n",
        "    with open(upload_file_path, \"rb\") as data:\r\n",
        "        blob_client.upload_blob(data)\r\n",
        "    \r\n",
        "except Exception as ex:\r\n",
        "    print('Exception:')\r\n",
        "    print(ex)"
      ],
      "outputs": [],
      "execution_count": null,
      "metadata": {
        "jupyter": {
          "source_hidden": false,
          "outputs_hidden": false
        },
        "nteract": {
          "transient": {
            "deleting": false
          }
        },
        "gather": {
          "logged": 1668158511533
        }
      }
    },
    {
      "cell_type": "markdown",
      "source": [
        "## Download Parquet files with nested folders from a container"
      ],
      "metadata": {
        "nteract": {
          "transient": {
            "deleting": false
          }
        }
      }
    },
    {
      "cell_type": "code",
      "source": [
        "import os, uuid\r\n",
        "from azure.storage.blob import BlobServiceClient, BlobClient, ContainerClient, __version__\r\n",
        "\r\n",
        "try:\r\n",
        "    print(\"Azure Blob Storage v\" + __version__ + \" - Python quickstart sample\")\r\n",
        "    connect_str = os.getenv('AZURE_STORAGE_CONNECTION_STRING')\r\n",
        "    \r\n",
        "    blob_service_client = BlobServiceClient.from_connection_string(connect_str)\r\n",
        "    container_client = blob_service_client.get_container_client(container_name)\r\n",
        "    # choose a specific blob for downloading \r\n",
        "    blob_list = container_client.list_blobs(name_starts_with=\"path of a specific blob\")\r\n",
        "\r\n",
        "    blob_path = \"path of the specific blob\"\r\n",
        "\r\n",
        "    for blob in blob_list:\r\n",
        "        # Don't want to create empty unnecessary nested folders, therfore replace the path with a null string\r\n",
        "        blob_name = blob.name.replace(blob_path, \"\")\r\n",
        "        if blob_name.endswith(\".parquet\"):\r\n",
        "            #download file\r\n",
        "            download_file_path = os.path.join(blob_folder, blob_name)\r\n",
        "            isExist = os.path.exists(download_file_path)\r\n",
        "            if not isExist:\r\n",
        "                with open(download_file_path, \"wb\") as download_file:\r\n",
        "                    download_file.write(container_client.download_blob(blob.name).readall())\r\n",
        "                    print(download_file_path + \" downloaded\")\r\n",
        "            else:\r\n",
        "                print(download_file_path + \" already exists\" + \"   No Need to download!\")\r\n",
        "        else:\r\n",
        "            #create a folder\r\n",
        "            dir_path = os.path.join(blob_folder, blob_name)\r\n",
        "            os.makedirs(dir_path, exist_ok=True)\r\n",
        "\r\n",
        "except Exception as ex:\r\n",
        "    print('Exception:')\r\n",
        "    print(ex)"
      ],
      "outputs": [],
      "execution_count": null,
      "metadata": {
        "jupyter": {
          "source_hidden": false,
          "outputs_hidden": false
        },
        "nteract": {
          "transient": {
            "deleting": false
          }
        },
        "gather": {
          "logged": 1668158133119
        }
      }
    },
    {
      "cell_type": "markdown",
      "source": [
        "## Upload nested folders into a container"
      ],
      "metadata": {
        "nteract": {
          "transient": {
            "deleting": false
          }
        }
      }
    },
    {
      "cell_type": "code",
      "source": [
        "import os\r\n",
        "from azure.storage.blob import BlobServiceClient\r\n",
        "import argparse\r\n",
        "import glob\r\n",
        "\r\n",
        "connect_str = os.getenv('AZURE_STORAGE_CONNECTION_STRING')\r\n",
        "# Instantiate a BlobServiceClient using a connection string\r\n",
        "blob_service_client = BlobServiceClient.from_connection_string(connect_str)\r\n",
        "\r\n",
        "# Instantiate a ContainerClient\r\n",
        "container_client = blob_service_client.get_container_client(container_name) \r\n",
        "\r\n",
        "# Create new Container\r\n",
        "try:\r\n",
        "    container_client.create_container()\r\n",
        "except Exception as err:\r\n",
        "    print(\"WARNING: \", err)\r\n",
        "    pass\r\n",
        "\r\n",
        "data_path = os.path.join(os.getcwd(), 'folder-name') # its need the mnt path of your folder, otherwise you will get an authorization error!\r\n",
        "\r\n",
        "for filename in glob.iglob(os.path.join(data_path, '**', '*'), recursive=True):\r\n",
        "    if os.path.isfile(filename):\r\n",
        "        # Upload a blob to the container\r\n",
        "        with open(filename, \"rb\") as data:\r\n",
        "            try:\r\n",
        "                print('Uploading ', filename)\r\n",
        "                container_client.upload_blob(name=filename, data=data)\r\n",
        "            except Exception as err:\r\n",
        "                print(\"WARNING: \", err)\r\n",
        "                pass"
      ],
      "outputs": [],
      "execution_count": null,
      "metadata": {
        "jupyter": {
          "source_hidden": false,
          "outputs_hidden": false
        },
        "nteract": {
          "transient": {
            "deleting": false
          }
        },
        "gather": {
          "logged": 1668159309397
        }
      }
    },
    {
      "cell_type": "markdown",
      "source": [
        "# Summary\r\n",
        "This tutorials explain how can we download/upload files.\r\n",
        "[Azure storage](https://learn.microsoft.com/en-us/azure/storage/blobs/storage-quickstart-blobs-python?tabs=managed-identity%2Croles-azure-portal%2Csign-in-azure-cli)\r\n"
      ],
      "metadata": {
        "nteract": {
          "transient": {
            "deleting": false
          }
        }
      }
    }
  ],
  "metadata": {
    "kernelspec": {
      "name": "python38-azureml",
      "language": "python",
      "display_name": "Python 3.8 - AzureML"
    },
    "language_info": {
      "name": "python",
      "version": "3.8.13",
      "mimetype": "text/x-python",
      "codemirror_mode": {
        "name": "ipython",
        "version": 3
      },
      "pygments_lexer": "ipython3",
      "nbconvert_exporter": "python",
      "file_extension": ".py"
    },
    "kernel_info": {
      "name": "python38-azureml"
    },
    "microsoft": {
      "host": {
        "AzureML": {
          "notebookHasBeenCompleted": true
        }
      }
    },
    "nteract": {
      "version": "nteract-front-end@1.0.0"
    }
  },
  "nbformat": 4,
  "nbformat_minor": 2
}