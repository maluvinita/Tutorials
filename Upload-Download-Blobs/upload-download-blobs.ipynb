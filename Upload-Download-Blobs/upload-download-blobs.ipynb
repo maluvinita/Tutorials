{
  "cells": [
    {
      "cell_type": "markdown",
      "metadata": {
        "nteract": {
          "transient": {
            "deleting": false
          }
        }
      },
      "source": [
        "# Tutorial: Upload and download blobs from a container\n",
        "This tutorial uses the latest version of azure-blob-storage(v12.14.1) and demonstrate how to upload and download blobs. "
      ]
    },
    {
      "cell_type": "code",
      "execution_count": null,
      "metadata": {
        "gather": {
          "logged": 1668158730524
        },
        "jupyter": {
          "outputs_hidden": false,
          "source_hidden": false
        },
        "nteract": {
          "transient": {
            "deleting": false
          }
        }
      },
      "outputs": [],
      "source": [
        "# set connection string of the storage in the environment \n",
        "import os\n",
        "os.environ['AZURE_STORAGE_CONNECTION_STRING']=\"your storage connection string\"\n",
        "container_name = 'data'\n",
        "blob_folder = os.path.join(os.getcwd(), container_name+\"-blobs\")\n",
        "os.makedirs(blob_folder, exist_ok=True)"
      ]
    },
    {
      "cell_type": "markdown",
      "metadata": {
        "nteract": {
          "transient": {
            "deleting": false
          }
        }
      },
      "source": [
        "## Download the files from a container "
      ]
    },
    {
      "cell_type": "code",
      "execution_count": null,
      "metadata": {
        "gather": {
          "logged": 1668156532762
        },
        "jupyter": {
          "outputs_hidden": false,
          "source_hidden": false
        },
        "nteract": {
          "transient": {
            "deleting": false
          }
        }
      },
      "outputs": [],
      "source": [
        "import os, uuid\n",
        "from azure.storage.blob import BlobServiceClient, BlobClient, ContainerClient, __version__\n",
        "\n",
        "try:\n",
        "    print(\"Azure Blob Storage v\" + __version__ + \" - Python quickstart sample\")\n",
        "    connect_str = os.getenv('AZURE_STORAGE_CONNECTION_STRING')\n",
        "\n",
        "    print(\"\\nListing blobs...\")\n",
        "\n",
        "    blob_service_client = BlobServiceClient.from_connection_string(connect_str)\n",
        "    container_client = blob_service_client.get_container_client(container_name)\n",
        "    # List the blobs in the container\n",
        "    blob_list = container_client.list_blobs()\n",
        "\n",
        "    for blob in blob_list:\n",
        "        print(\"\\t\" + blob.name)\n",
        "        download_file_path = os.path.join(blob_folder, blob.name)\n",
        "        with open(download_file_path, \"wb\") as download_file:\n",
        "            download_file.write(container_client.download_blob(blob.name).readall())\n",
        "            print( blob.name + \" downloaded\")\n",
        "\n",
        "except Exception as ex:\n",
        "    print('Exception:')\n",
        "    print(ex)"
      ]
    },
    {
      "cell_type": "markdown",
      "metadata": {
        "nteract": {
          "transient": {
            "deleting": false
          }
        }
      },
      "source": [
        "# Upload a file into a container"
      ]
    },
    {
      "cell_type": "code",
      "execution_count": null,
      "metadata": {
        "gather": {
          "logged": 1668158511533
        },
        "jupyter": {
          "outputs_hidden": false,
          "source_hidden": false
        },
        "nteract": {
          "transient": {
            "deleting": false
          }
        }
      },
      "outputs": [],
      "source": [
        "from azure.storage.blob import BlobServiceClient, BlobClient, ContainerClient, __version__\n",
        "try:\n",
        "    print(\"Azure Blob Storage v\" + __version__ + \" - Python quickstart sample\")\n",
        "    connect_str = os.getenv('AZURE_STORAGE_CONNECTION_STRING')\n",
        "\n",
        "    file_name = 'A file name'\n",
        "    upload_file_path = os.path.join(os.getcwd(), file_name)\n",
        "    \n",
        "    blob_service_client = BlobServiceClient.from_connection_string(connect_str)\n",
        "    blob_client = blob_service_client.get_blob_client(container=container_name, blob=file_name)\n",
        "\n",
        "    print(\"\\nUploading to Azure Storage as blob:\\n\\t\" + file_name)\n",
        "\n",
        "    # Upload the created file\n",
        "    with open(upload_file_path, \"rb\") as data:\n",
        "        blob_client.upload_blob(data)\n",
        "    \n",
        "except Exception as ex:\n",
        "    print('Exception:')\n",
        "    print(ex)"
      ]
    },
    {
      "cell_type": "markdown",
      "metadata": {
        "nteract": {
          "transient": {
            "deleting": false
          }
        }
      },
      "source": [
        "## Download Parquet files with nested folders from a container"
      ]
    },
    {
      "cell_type": "code",
      "execution_count": null,
      "metadata": {
        "gather": {
          "logged": 1668158133119
        },
        "jupyter": {
          "outputs_hidden": false,
          "source_hidden": false
        },
        "nteract": {
          "transient": {
            "deleting": false
          }
        }
      },
      "outputs": [],
      "source": [
        "import os, uuid\n",
        "from azure.storage.blob import BlobServiceClient, BlobClient, ContainerClient, __version__\n",
        "\n",
        "try:\n",
        "    print(\"Azure Blob Storage v\" + __version__ + \" - Python quickstart sample\")\n",
        "    connect_str = os.getenv('AZURE_STORAGE_CONNECTION_STRING')\n",
        "    \n",
        "    blob_service_client = BlobServiceClient.from_connection_string(connect_str)\n",
        "    container_client = blob_service_client.get_container_client(container_name)\n",
        "    # choose a specific blob for downloading \n",
        "    blob_list = container_client.list_blobs(name_starts_with=\"path of a specific blob\")\n",
        "\n",
        "    blob_path = \"path of the specific blob\"\n",
        "\n",
        "    for blob in blob_list:\n",
        "        # Don't want to create empty unnecessary nested folders, therfore replace the path with a null string\n",
        "        blob_name = blob.name.replace(blob_path, \"\")\n",
        "        if blob_name.endswith(\".parquet\"):\n",
        "            #download file\n",
        "            download_file_path = os.path.join(blob_folder, blob_name)\n",
        "            isExist = os.path.exists(download_file_path)\n",
        "            if not isExist:\n",
        "                with open(download_file_path, \"wb\") as download_file:\n",
        "                    download_file.write(container_client.download_blob(blob.name).readall())\n",
        "                    print(download_file_path + \" downloaded\")\n",
        "            else:\n",
        "                print(download_file_path + \" already exists\" + \"   No Need to download!\")\n",
        "        else:\n",
        "            #create a folder\n",
        "            dir_path = os.path.join(blob_folder, blob_name)\n",
        "            os.makedirs(dir_path, exist_ok=True)\n",
        "\n",
        "except Exception as ex:\n",
        "    print('Exception:')\n",
        "    print(ex)"
      ]
    },
    {
      "cell_type": "markdown",
      "metadata": {
        "nteract": {
          "transient": {
            "deleting": false
          }
        }
      },
      "source": [
        "## Upload nested folders into a container"
      ]
    },
    {
      "cell_type": "code",
      "execution_count": null,
      "metadata": {
        "gather": {
          "logged": 1668159309397
        },
        "jupyter": {
          "outputs_hidden": false,
          "source_hidden": false
        },
        "nteract": {
          "transient": {
            "deleting": false
          }
        }
      },
      "outputs": [],
      "source": [
        "import os\n",
        "from azure.storage.blob import BlobServiceClient\n",
        "import argparse\n",
        "import glob\n",
        "\n",
        "connect_str = os.getenv('AZURE_STORAGE_CONNECTION_STRING')\n",
        "# Instantiate a BlobServiceClient using a connection string\n",
        "blob_service_client = BlobServiceClient.from_connection_string(connect_str)\n",
        "\n",
        "# Instantiate a ContainerClient\n",
        "container_client = blob_service_client.get_container_client(container_name) \n",
        "\n",
        "# Create new Container\n",
        "try:\n",
        "    container_client.create_container()\n",
        "except Exception as err:\n",
        "    print(\"WARNING: \", err)\n",
        "    pass\n",
        "\n",
        "data_path = os.path.join(os.getcwd(), 'folder-name') # its need the mnt path of your folder, otherwise you will get an authorization error!\n",
        "\n",
        "for filename in glob.iglob(os.path.join(data_path, '**', '*'), recursive=True):\n",
        "    if os.path.isfile(filename):\n",
        "        # Upload a blob to the container\n",
        "        with open(filename, \"rb\") as data:\n",
        "            try:\n",
        "                print('Uploading ', filename)\n",
        "                container_client.upload_blob(name=filename, data=data)\n",
        "            except Exception as err:\n",
        "                print(\"WARNING: \", err)\n",
        "                pass"
      ]
    },
    {
      "cell_type": "markdown",
      "metadata": {},
      "source": [
        "_**Note: got [similar error](https://learn.microsoft.com/en-us/answers/questions/19701/the-mac-signature-found-in-the-http-request-is-not.html) when upload the actual directory(\"./directory-name\") instead of taking the mount path from os.getcwd(). Doesn't seem like it is resolved yet!**_\n",
        "\n",
        "_**But you can use use [AZcopy command](https://learn.microsoft.com/en-us/azure/storage/common/storage-use-azcopy-blobs-upload) on terminal to upload a directory without the mount path, you just need to add Storage Blob Data Contributor role to the account.**_"
      ]
    },
    {
      "cell_type": "markdown",
      "metadata": {
        "nteract": {
          "transient": {
            "deleting": false
          }
        }
      },
      "source": [
        "# Summary\n",
        "This tutorials explain how can we download/upload files.\n",
        "[Azure storage](https://learn.microsoft.com/en-us/azure/storage/blobs/storage-quickstart-blobs-python?tabs=managed-identity%2Croles-azure-portal%2Csign-in-azure-cli)\n"
      ]
    }
  ],
  "metadata": {
    "kernel_info": {
      "name": "python38-azureml"
    },
    "kernelspec": {
      "display_name": "Python 3.8 - AzureML",
      "language": "python",
      "name": "python38-azureml"
    },
    "language_info": {
      "codemirror_mode": {
        "name": "ipython",
        "version": 3
      },
      "file_extension": ".py",
      "mimetype": "text/x-python",
      "name": "python",
      "nbconvert_exporter": "python",
      "pygments_lexer": "ipython3",
      "version": "3.8.13"
    },
    "microsoft": {
      "host": {
        "AzureML": {
          "notebookHasBeenCompleted": true
        }
      }
    },
    "nteract": {
      "version": "nteract-front-end@1.0.0"
    }
  },
  "nbformat": 4,
  "nbformat_minor": 2
}
