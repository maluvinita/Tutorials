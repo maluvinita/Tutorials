{
  "cells": [
    {
      "cell_type": "markdown",
      "source": [
        "# Tutorial: Train a diabetes prediction model with Azure Machine Learning and score with ADX\r\n",
        "Open data set from: # TODO edit link\r\n",
        "This dataset is originally from the National Institute of Diabetes and Digestive and Kidney Diseases. The objective is to predict based on diagnostic measurements whether a patient has diabetes.\r\n",
        "\r\n",
        "# Prerequisite\r\n",
        "- Enable Python plugin on your ADX cluster (see the Onboarding section of the [python() plugin](https://learn.microsoft.com/en-us/azure/data-explorer/kusto/query/pythonplugin?pivots=azuredataexplorer) doc)\r\n",
        "- Whitelist a blob container to be accessible by ADX Python sandbox (see the Appendix section of the doc)\r\n",
        "- Create a Python environment (conda or virtual env) that reflects the Python sandbox image\r\n",
        "- Install in that environment AML SDK\r\n",
        "- Install in that environment Azure Blob Storage SDK (intall the older version v2.1 as the newer version is currently incompatible with azure-kusto-ingest package)\r\n",
        "\r\n",
        "# Set up your AML environment\r\n",
        "- 1. Import Python packages\r\n",
        "- 2. Create (or connect to) an AML workspace\r\n",
        "- 3. Create (or connect to) a remote compute target to use for training\r\n",
        "- 4. Create an experiment to track all your runs\r\n",
        "\r\n",
        "## Instructions:\r\n",
        "- [Kusto Query Language (KQL) overview](https://learn.microsoft.com/en-us/azure/data-explorer/kusto/query/) \r\n",
        "- When I created this module ADX supported python 3.6.* & azure-storage-blob=2.1 therefore I chose specific version of library but in future you might go for the latest version. As they are going to upgrade python version to 3.9.12\r\n"
      ],
      "metadata": {
        "nteract": {
          "transient": {
            "deleting": false
          }
        }
      }
    },
    {
      "cell_type": "markdown",
      "source": [
        "# Importing AML packages"
      ],
      "metadata": {
        "nteract": {
          "transient": {
            "deleting": false
          }
        }
      }
    },
    {
      "cell_type": "code",
      "source": [
        "import sys\r\n",
        "import azureml.core\r\n",
        "from azureml.core import Workspace\r\n",
        "from azureml.core import Experiment\r\n",
        "from azureml.core.compute import AmlCompute\r\n",
        "from azureml.core.compute import ComputeTarget\r\n",
        "from azureml.core.environment import Environment\r\n",
        "from azureml.core.conda_dependencies import CondaDependencies\r\n",
        "\r\n",
        "\r\n",
        "print(sys.version)\r\n",
        "print(\"Azure ML SDK Version: \", azureml.core.VERSION)"
      ],
      "outputs": [],
      "execution_count": null,
      "metadata": {
        "jupyter": {
          "source_hidden": false,
          "outputs_hidden": false
        },
        "nteract": {
          "transient": {
            "deleting": false
          }
        },
        "gather": {
          "logged": 1668094617908
        }
      }
    },
    {
      "cell_type": "markdown",
      "source": [
        "## Create workspace\r\n",
        "If the workspace already exists connect to it"
      ],
      "metadata": {
        "nteract": {
          "transient": {
            "deleting": false
          }
        }
      }
    },
    {
      "cell_type": "code",
      "source": [
        "ws = Workspace.create(\r\n",
        "    name = \"Your Workspace Name\",\r\n",
        "    subscription_id = \"Your Subsription Id\",\r\n",
        "    resource_group = \"Your Resource Group\", \r\n",
        "    location = \"Your location\",  # e.g \"westus\"\r\n",
        "    exist_ok = True,\r\n",
        "    show_output = True)\r\n",
        "\r\n",
        "ws.write_config()"
      ],
      "outputs": [],
      "execution_count": null,
      "metadata": {
        "jupyter": {
          "source_hidden": false,
          "outputs_hidden": false
        },
        "nteract": {
          "transient": {
            "deleting": false
          }
        },
        "gather": {
          "logged": 1668094538280
        }
      }
    },
    {
      "cell_type": "code",
      "source": [
        "ws = Workspace.from_config()\r\n",
        "print(ws.name, ws.location, ws.resource_group, sep='\\t')"
      ],
      "outputs": [
        {
          "output_type": "stream",
          "name": "stdout",
          "text": "vmalu-ml\tuksouth\tvmalu-rg\n"
        }
      ],
      "execution_count": 3,
      "metadata": {
        "jupyter": {
          "source_hidden": false,
          "outputs_hidden": false
        },
        "nteract": {
          "transient": {
            "deleting": false
          }
        },
        "gather": {
          "logged": 1668082654913
        }
      }
    },
    {
      "cell_type": "markdown",
      "source": [
        "## Create experiment\r\n",
        "Create an experiment to track the runs in your workspace"
      ],
      "metadata": {
        "nteract": {
          "transient": {
            "deleting": false
          }
        }
      }
    },
    {
      "cell_type": "code",
      "source": [
        "exp = Experiment(workspace=ws, name=\"Prediction-Diabetes\")"
      ],
      "outputs": [],
      "execution_count": null,
      "metadata": {
        "jupyter": {
          "source_hidden": false,
          "outputs_hidden": false
        },
        "nteract": {
          "transient": {
            "deleting": false
          }
        }
      }
    },
    {
      "cell_type": "markdown",
      "source": [
        "## Create or attach existing compute resource\r\n",
        "By using Azure Machine Learning Compute, a managed service, data scientists can train machine learning models on clusters of Azure virtual machines.Here you create Azure Machine Learning Compute for model training\r\n",
        "\r\n",
        "**Creation of compute takes approximately 5 minutes**. If the AmlCompute with that name is already in your workspace the code will skip the creation process."
      ],
      "metadata": {
        "nteract": {
          "transient": {
            "deleting": false
          }
        }
      }
    },
    {
      "cell_type": "code",
      "source": [
        "compute_name = \"vmalu-ci\"\r\n",
        "vm_sku = \"STANDARD_E4AS_V4\"\r\n",
        "\r\n",
        "if compute_name in ws.compute_targets:\r\n",
        "    compute_target = ws.compute_targets[compute_name]\r\n",
        "    if compute_target and type(compute_target) is azureml.core.compute.computeinstance.ComputeInstance:\r\n",
        "        print(\"found compute target: \" + compute_name)\r\n",
        "else:\r\n",
        "    print(\"creating new compute target...\")\r\n",
        "    provisioning_config = AmlCompute.provisioning_configuration(vm_size=vm_sku, min_nodes=1,max_nodes=2)\r\n",
        "    compute_target = ComputeTarget.create(ws, compute_name, provisioning_config)\r\n",
        "    compute_target.wait_for_completion(show_output=True, min_node_count=None, timeout_in_minutes=10)"
      ],
      "outputs": [],
      "execution_count": null,
      "metadata": {
        "jupyter": {
          "source_hidden": false,
          "outputs_hidden": false
        },
        "nteract": {
          "transient": {
            "deleting": false
          }
        },
        "gather": {
          "logged": 1668082659081
        }
      }
    },
    {
      "cell_type": "markdown",
      "source": [
        "Install Kqlmagic"
      ],
      "metadata": {
        "nteract": {
          "transient": {
            "deleting": false
          }
        }
      }
    },
    {
      "cell_type": "code",
      "source": [
        "!pip install Kqlmagic --no-cache-dir  --upgrade"
      ],
      "outputs": [],
      "execution_count": null,
      "metadata": {
        "jupyter": {
          "source_hidden": false,
          "outputs_hidden": false
        },
        "nteract": {
          "transient": {
            "deleting": false
          }
        }
      }
    },
    {
      "cell_type": "markdown",
      "source": [
        "**Note: KQLMAGIC_AZUREML_COMPUTE environment variable should be set, otherwise popup windows might not function properly.**\r\n",
        "\r\n",
        "Web address of your compute\r\n"
      ],
      "metadata": {
        "nteract": {
          "transient": {
            "deleting": false
          }
        }
      }
    },
    {
      "cell_type": "code",
      "source": [
        "import os\r\n",
        "os.environ['KQLMAGIC_AZUREML_COMPUTE']=\"https://ml.azure.com/compute/{-}/details?wsid=/subscriptions/{-}/resourcegroups/{-}/providers/Microsoft.MachineLearningServices/workspaces/{-}\""
      ],
      "outputs": [],
      "execution_count": 7,
      "metadata": {
        "jupyter": {
          "source_hidden": false,
          "outputs_hidden": false
        },
        "nteract": {
          "transient": {
            "deleting": false
          }
        },
        "gather": {
          "logged": 1668082667720
        }
      }
    },
    {
      "cell_type": "code",
      "source": [
        "# Load kql \r\n",
        "%reload_ext Kqlmagic"
      ],
      "outputs": [],
      "execution_count": null,
      "metadata": {
        "jupyter": {
          "source_hidden": false,
          "outputs_hidden": false
        },
        "nteract": {
          "transient": {
            "deleting": false
          }
        }
      }
    },
    {
      "cell_type": "markdown",
      "source": [
        "## Connect to the Azure Data Explorer\r\n",
        "Authenticate yourself! Follow the steps you get in the output   "
      ],
      "metadata": {
        "nteract": {
          "transient": {
            "deleting": false
          }
        }
      }
    },
    {
      "cell_type": "code",
      "source": [
        "%kql kusto://code;cluster='your adx cluser ';database='your database'"
      ],
      "outputs": [],
      "execution_count": null,
      "metadata": {
        "jupyter": {
          "source_hidden": false,
          "outputs_hidden": false
        },
        "nteract": {
          "transient": {
            "deleting": false
          }
        }
      }
    },
    {
      "cell_type": "markdown",
      "source": [
        "## Explore data\r\n",
        "Before you train a model, you need to understand the data that you are using to train it.\r\n",
        "- Fetch the diabetic prediction dataset from Kusto using KqlMagic\r\n",
        "- Display some records"
      ],
      "metadata": {
        "nteract": {
          "transient": {
            "deleting": false
          }
        }
      }
    },
    {
      "cell_type": "code",
      "source": [
        "%kql res << Diabetes # Save dataset in the Diabetes table \r\n",
        "df = res.to_dataframe() \r\n",
        "print(df.shape)\r\n",
        "df[:4]"
      ],
      "outputs": [],
      "execution_count": null,
      "metadata": {
        "jupyter": {
          "source_hidden": false,
          "outputs_hidden": false
        },
        "nteract": {
          "transient": {
            "deleting": false
          }
        },
        "gather": {
          "logged": 1668082705205
        }
      }
    },
    {
      "cell_type": "markdown",
      "source": [
        "## Let's copy the data from ADX to blob container to access it from AML\r\n",
        "Notes:\r\n",
        "- We copy the input data using KqlMagic to a blob container in the storage account that was allocated for the AML workspace\r\n",
        "- You can create the blob container using Azure Storage Explorer, and extract its SAS token by right clicking it"
      ],
      "metadata": {
        "nteract": {
          "transient": {
            "deleting": false
          }
        }
      }
    },
    {
      "cell_type": "code",
      "source": [
        "aml_storage_account = \"Your storage account\" # you can use the storage account that was created automatically as part of the AML workspace\r\n",
        "aml_container_name = \"kusto\"\r\n",
        "aml_sas_token = \"Your SAS Token for this container\"\r\n",
        "aml_stroage_key = \"Your storage account key \"\r\n",
        "os.environ['AZURE_STORAGE_CONNECTION_STRING']= \"Your storage account connection string\""
      ],
      "outputs": [],
      "execution_count": null,
      "metadata": {
        "jupyter": {
          "source_hidden": false,
          "outputs_hidden": false
        },
        "nteract": {
          "transient": {
            "deleting": false
          }
        },
        "gather": {
          "logged": 1668083483219
        }
      }
    },
    {
      "cell_type": "code",
      "source": [
        "blob_container_uri = f\"https://{aml_storage_account}.blob.core.windows.net/{aml_container_name};{aml_stroage_key}\"\r\n",
        "copy_query = f\".export to csv (h@'{blob_container_uri}') with(namePrefix=Diabetes, includeHeaders=all) <| Diabetes\"\r\n",
        "print(copy_query)\r\n",
        "\r\n",
        "%kql res << -query copy_query\r\n",
        "data_blob_name = res.to_dataframe()[\"Path\"][0].split('/')[-1]\r\n",
        "print(\"\\ndata blob name is: \", data_blob_name)\r\n"
      ],
      "outputs": [],
      "execution_count": null,
      "metadata": {
        "jupyter": {
          "source_hidden": false,
          "outputs_hidden": false
        },
        "nteract": {
          "transient": {
            "deleting": false
          }
        },
        "gather": {
          "logged": 1668082714046
        }
      }
    },
    {
      "cell_type": "markdown",
      "source": [
        "**Note:** This notebook supports the latest version of azure-storage-blob, I used the latest API and modules to download/upload  blobs"
      ],
      "metadata": {
        "nteract": {
          "transient": {
            "deleting": false
          }
        }
      }
    },
    {
      "cell_type": "code",
      "source": [
        "# Test downloading the blob\r\n",
        "\r\n",
        "from azure.storage.blob import BlobServiceClient, ContainerClient, __version__\r\n",
        "import pandas as pd\r\n",
        "try:\r\n",
        "    print(\"Azure Blob Storage v\" + __version__ + \" - Python quickstart sample\")\r\n",
        "    connect_str = os.getenv('AZURE_STORAGE_CONNECTION_STRING')\r\n",
        "\r\n",
        "    blob_service_client = BlobServiceClient.from_connection_string(connect_str)\r\n",
        "    container_client = blob_service_client.get_container_client(aml_container_name)\r\n",
        "    local_path = './'\r\n",
        "    download_file_path = os.path.join(local_path, 'Diabetes.csv')\r\n",
        "    with open(download_file_path, \"wb\") as download_file:\r\n",
        "        download_file.write(container_client.download_blob(data_blob_name).readall())\r\n",
        "        print( data_blob_name + \" downloaded\")\r\n",
        "\r\n",
        "except Exception as ex:\r\n",
        "    print('Exception:')\r\n",
        "    print(ex)\r\n",
        "\r\n",
        "df = pd.read_csv('Diabetes.csv')\r\n",
        "print(df.shape)\r\n",
        "df[-4:]"
      ],
      "outputs": [],
      "execution_count": null,
      "metadata": {
        "jupyter": {
          "source_hidden": false,
          "outputs_hidden": false
        },
        "nteract": {
          "transient": {
            "deleting": false
          }
        },
        "gather": {
          "logged": 1668093780417
        }
      }
    },
    {
      "cell_type": "markdown",
      "source": [
        "## Training on a remote cluster\r\n",
        "Here we submit the job to run on the remote training cluster we set up earlier. To submit a job we:\r\n",
        "- Create a directory for all files to be uploaded to the remote cluster\r\n",
        "- Create a training script\r\n",
        "- Create an estimator object\r\n",
        "- Submit the job\r\n",
        "## Create a directory\r\n",
        "Create a directory to upload all files to the remote cluster"
      ],
      "metadata": {
        "nteract": {
          "transient": {
            "deleting": false
          }
        }
      }
    },
    {
      "cell_type": "code",
      "source": [
        "import os\r\n",
        "script_folder = os.path.join(os.getcwd(), \"to-upload\")\r\n",
        "os.makedirs(script_folder, exist_ok=True)"
      ],
      "outputs": [],
      "execution_count": 63,
      "metadata": {
        "jupyter": {
          "source_hidden": false,
          "outputs_hidden": false
        },
        "nteract": {
          "transient": {
            "deleting": false
          }
        },
        "gather": {
          "logged": 1668093794833
        }
      }
    },
    {
      "cell_type": "markdown",
      "source": [
        "## Create a training script\r\n",
        "To submit the job to the cluster, we need to create a training script. Here we create train.py in the to-upload directory"
      ],
      "metadata": {
        "nteract": {
          "transient": {
            "deleting": false
          }
        }
      }
    },
    {
      "cell_type": "code",
      "source": [
        "%%writefile \"$script_folder/train.py\"\r\n",
        "\r\n",
        "# Import libraries\r\n",
        "from azureml.core import Run\r\n",
        "import argparse\r\n",
        "import pandas as pd\r\n",
        "import numpy as np\r\n",
        "import pickle\r\n",
        "import os\r\n",
        "from sklearn.model_selection import train_test_split\r\n",
        "from sklearn.linear_model import LogisticRegression\r\n",
        "from sklearn.metrics import roc_auc_score\r\n",
        "from sklearn.metrics import roc_curve\r\n",
        "from azure.storage.blob import BlockBlobService\r\n",
        "\r\n",
        "# Get the experiment run context\r\n",
        "run = Run.get_context()\r\n",
        "\r\n",
        "parser = argparse.ArgumentParser()\r\n",
        "\r\n",
        "parser.add_argument('--account', type=str,  help='storage account name')\r\n",
        "parser.add_argument('--container', type=str, help='blob container name')\r\n",
        "parser.add_argument('--blob', type=str, help='blob name')\r\n",
        "parser.add_argument('--sas', type=str,  help='SAS token')\r\n",
        "\r\n",
        "args = parser.parse_args()\r\n",
        "\r\n",
        "storage_account = args.account\r\n",
        "container_name = args.container\r\n",
        "blob_name = args.blob\r\n",
        "sas_token = args.sas\r\n",
        "\r\n",
        "try:\r\n",
        "    block_blob_service = BlockBlobService(account_name=storage_account, sas_token=sas_token)\r\n",
        "    block_blob_service.get_blob_to_path(container_name, blob_name, 'diabetes.csv')\r\n",
        "\r\n",
        "except Exception as ex:\r\n",
        "    print('Exception:')\r\n",
        "    print(ex)\r\n",
        "\r\n",
        "\r\n",
        "# load the diabetes dataset\r\n",
        "print(\"Loading Data...\")\r\n",
        "diabetes = pd.read_csv('diabetes.csv')\r\n",
        "\r\n",
        "# Separate features and labels\r\n",
        "X, y = diabetes[['Pregnancies','PlasmaGlucose','DiastolicBloodPressure','TricepsThickness','SerumInsulin','BMI','DiabetesPedigree','Age']].values, diabetes['Diabetic'].values\r\n",
        "\r\n",
        "# Split data into training set and test set\r\n",
        "X_train, X_test, y_train, y_test = train_test_split(X, y, test_size=0.30, random_state=0)\r\n",
        "\r\n",
        "# Set regularization hyperparameter\r\n",
        "reg = 0.01\r\n",
        "\r\n",
        "# Train a logistic regression model\r\n",
        "print('Training a logistic regression model with regularization rate of', reg)\r\n",
        "run.log('Regularization Rate',  np.float(reg))\r\n",
        "model = LogisticRegression(C=1/reg, solver=\"liblinear\").fit(X_train, y_train)\r\n",
        "\r\n",
        "# calculate accuracy\r\n",
        "y_hat = model.predict(X_test)\r\n",
        "acc = np.average(y_hat == y_test)\r\n",
        "print('Accuracy:', acc)\r\n",
        "run.log('Accuracy', np.float(acc))\r\n",
        "\r\n",
        "# calculate AUC\r\n",
        "y_scores = model.predict_proba(X_test)\r\n",
        "auc = roc_auc_score(y_test,y_scores[:,1])\r\n",
        "print('AUC: ' + str(auc))\r\n",
        "run.log('AUC', np.float(auc))\r\n",
        "\r\n",
        "# Save the trained model in the outputs folder\r\n",
        "os.makedirs('outputs', exist_ok=True)\r\n",
        "\r\n",
        "with open('outputs/diabetes_model.pkl', 'wb') as handle:\r\n",
        "    pickle.dump(model, handle)\r\n",
        "\r\n",
        "run.complete()\r\n"
      ],
      "outputs": [],
      "execution_count": null,
      "metadata": {
        "jupyter": {
          "source_hidden": false,
          "outputs_hidden": false
        },
        "nteract": {
          "transient": {
            "deleting": false
          }
        }
      }
    },
    {
      "cell_type": "markdown",
      "source": [
        "## Run the training script as an experiment\r\n",
        "Now you're ready to run the script as an experiment. Note that the default environment does not include the ML/azure packages, so you need to explicitly add that to the configuration. The conda environment is built on-demand the first time the experiment is run, and cached for future runs that use the same configuration; so the first run will take a little longer."
      ],
      "metadata": {
        "nteract": {
          "transient": {
            "deleting": false
          }
        }
      }
    },
    {
      "cell_type": "code",
      "source": [
        "\r\n",
        "# Create Environment to install required packages\r\n",
        "from azureml.core import Experiment, ScriptRunConfig, Environment\r\n",
        "from azureml.core.runconfig import DockerConfiguration\r\n",
        "from azureml.widgets import RunDetails\r\n",
        "\r\n",
        "env = Environment.from_conda_specification(\"adx_sandbox_env\", \"environment.yml\")\r\n",
        "\r\n",
        "\r\n",
        "script_config = ScriptRunConfig(source_directory=script_folder,\r\n",
        "              arguments=['--account', aml_storage_account, '--container',aml_container_name, '--blob', data_blob_name, '--sas', aml_sas_token],\r\n",
        "              environment=env,\r\n",
        "              script='train.py')\r\n",
        "\r\n",
        "from azureml.widgets import RunDetails\r\n",
        "run = exp.submit(config=script_config)\r\n",
        "RunDetails(run).show()\r\n",
        "# specify show_output to True for a verbose log\r\n",
        "run.wait_for_completion(show_output=True) "
      ],
      "outputs": [],
      "execution_count": null,
      "metadata": {
        "jupyter": {
          "source_hidden": false,
          "outputs_hidden": false
        },
        "nteract": {
          "transient": {
            "deleting": false
          }
        },
        "gather": {
          "logged": 1668094546690
        }
      }
    },
    {
      "cell_type": "markdown",
      "source": [
        "## Register model\r\n",
        "The training script pickled the models to files and wrote them in a directory named outputs in the VM of the cluster where the job is executed. outputs is a special directory in that all content in this directory is automatically uploaded to our workspace. This content appears in the run record in the experiment under the workspace. Hence, the model file is now also available in the workspace."
      ],
      "metadata": {
        "nteract": {
          "transient": {
            "deleting": false
          }
        }
      }
    },
    {
      "cell_type": "code",
      "source": [
        "model = run.register_model(model_name='Diabetic-Prediction', model_path='outputs/diabetes_model.pkl')\r\n",
        "print(model.name, model.id, model.version, sep='\\t')"
      ],
      "outputs": [],
      "execution_count": null,
      "metadata": {
        "jupyter": {
          "source_hidden": false,
          "outputs_hidden": false
        },
        "nteract": {
          "transient": {
            "deleting": false
          }
        },
        "gather": {
          "logged": 1668089023166
        }
      }
    },
    {
      "cell_type": "markdown",
      "source": [
        "## Scoring in ADX\r\n",
        "2 options for retrieving the model for scoring:\r\n",
        "\r\n",
        "- serialize the model to a string to be stored in a standard table in ADX   (It is applicable for a small size of model otherwise you will get this error \"_Request is invalid and cannot be processed: Syntax error: SYN0009: Query length (354646170) too large (max: 2097152) [line:position=0:0]_\")\r\n",
        "- copy the model to a blob container (that was previously whitelisted for access by ADX Python sandbox)"
      ],
      "metadata": {
        "nteract": {
          "transient": {
            "deleting": false
          }
        }
      }
    },
    {
      "cell_type": "code",
      "source": [
        "model_path = model.download(exist_ok=True)\r\n",
        "model_path"
      ],
      "outputs": [],
      "execution_count": null,
      "metadata": {
        "jupyter": {
          "source_hidden": false,
          "outputs_hidden": false
        },
        "nteract": {
          "transient": {
            "deleting": false
          }
        },
        "gather": {
          "logged": 1668089286455
        }
      }
    },
    {
      "cell_type": "markdown",
      "source": [
        "## Copy the model to a blob container "
      ],
      "metadata": {
        "nteract": {
          "transient": {
            "deleting": false
          }
        }
      }
    },
    {
      "cell_type": "code",
      "source": [
        "from azure.storage.blob import BlobServiceClient, BlobClient, ContainerClient, __version__\r\n",
        "try:\r\n",
        "    print(\"Azure Blob Storage v\" + __version__ + \" - Python quickstart sample\")\r\n",
        "    connect_str = os.getenv('AZURE_STORAGE_CONNECTION_STRING')\r\n",
        "\r\n",
        "    model_name = 'diabetes_model.pkl'\r\n",
        "    upload_file_path = os.path.join('./', model_path)\r\n",
        "    \r\n",
        "    blob_service_client = BlobServiceClient.from_connection_string(connect_str)\r\n",
        "    blob_client = blob_service_client.get_blob_client(container=aml_container_name, blob=model_name)\r\n",
        "\r\n",
        "    print(\"\\nUploading to Azure Storage as blob:\\n\\t\" + model_name)\r\n",
        "\r\n",
        "    # Upload the created file\r\n",
        "    with open(upload_file_path, \"rb\") as data:\r\n",
        "        blob_client.upload_blob(data)\r\n",
        "    \r\n",
        "except Exception as ex:\r\n",
        "    print('Exception:')\r\n",
        "    print(ex)"
      ],
      "outputs": [],
      "execution_count": null,
      "metadata": {
        "jupyter": {
          "source_hidden": false,
          "outputs_hidden": false
        },
        "nteract": {
          "transient": {
            "deleting": false
          }
        },
        "gather": {
          "logged": 1668088583206
        }
      }
    },
    {
      "cell_type": "code",
      "source": [
        "# Copy Blob SAS URL of the uploaded model \r\n",
        "model_uri = \" Blob SAS URL \""
      ],
      "outputs": [],
      "execution_count": null,
      "metadata": {
        "jupyter": {
          "source_hidden": false,
          "outputs_hidden": false
        },
        "nteract": {
          "transient": {
            "deleting": false
          }
        },
        "gather": {
          "logged": 1668092058811
        }
      }
    },
    {
      "cell_type": "markdown",
      "source": [
        "## Scoring from model which is stored in blob storage"
      ],
      "metadata": {
        "nteract": {
          "transient": {
            "deleting": false
          }
        }
      }
    },
    {
      "cell_type": "code",
      "source": [
        "scoring_from_blob_query = r'''\r\n",
        "let classify_sf=(samples:(*), model_sas:string, features_cols:dynamic, pred_col:string)\r\n",
        "{\r\n",
        "    let kwargs = pack('model_sas', model_sas, 'features_cols', features_cols, 'pred_col', pred_col);\r\n",
        "    let code =\r\n",
        "    '\\n'\r\n",
        "    'import pickle\\n'\r\n",
        "    '\\n'\r\n",
        "    'model_sas = kargs[\"model_sas\"]\\n'\r\n",
        "    'features_cols = kargs[\"features_cols\"]\\n'\r\n",
        "    'pred_col = kargs[\"pred_col\"]\\n'\r\n",
        "    'with open(\"/Temp/model.pkl\", \"rb\") as f:\\n'\r\n",
        "    '   bmodel = f.read()\\n'\r\n",
        "    'clf1 = pickle.loads(bmodel)\\n'\r\n",
        "    'df1 = df[features_cols]\\n'\r\n",
        "    'predictions = clf1.predict(df1)\\n'\r\n",
        "    '\\n'\r\n",
        "    'result = df\\n'\r\n",
        "    'result[pred_col] = pd.DataFrame(predictions, columns=[pred_col])'\r\n",
        "    '\\n'\r\n",
        "    ;\r\n",
        "    samples | evaluate python(typeof(*), code, kwargs,\r\n",
        "        external_artifacts=pack('model.pkl', model_sas))\r\n",
        "};\r\n",
        "Diabetes \r\n",
        "| extend pred_Diabetic=0\r\n",
        "| invoke classify_sf('$model_uri$',\r\n",
        "                     pack_array('Pregnancies','PlasmaGlucose','DiastolicBloodPressure','TricepsThickness','SerumInsulin','BMI','DiabetesPedigree','Age'), 'pred_Diabetic')\r\n",
        "| summarize n=count() by Diabetic, pred_Diabetic      //  confusion matrix\r\n",
        "'''"
      ],
      "outputs": [],
      "execution_count": null,
      "metadata": {
        "jupyter": {
          "source_hidden": false,
          "outputs_hidden": false
        },
        "nteract": {
          "transient": {
            "deleting": false
          }
        },
        "gather": {
          "logged": 1668092504988
        }
      }
    },
    {
      "cell_type": "code",
      "source": [
        "scoring_from_blob_query = scoring_from_blob_query.replace('$model_uri$', model_uri)"
      ],
      "outputs": [],
      "execution_count": null,
      "metadata": {
        "jupyter": {
          "source_hidden": false,
          "outputs_hidden": false
        },
        "nteract": {
          "transient": {
            "deleting": false
          }
        },
        "gather": {
          "logged": 1668092508018
        }
      }
    },
    {
      "cell_type": "code",
      "source": [
        "%kql res << -query scoring_from_blob_query\r\n",
        "df = res.to_dataframe()\r\n",
        "print('Confusion Matrix')\r\n",
        "df"
      ],
      "outputs": [],
      "execution_count": null,
      "metadata": {
        "jupyter": {
          "source_hidden": false,
          "outputs_hidden": false
        },
        "nteract": {
          "transient": {
            "deleting": false
          }
        },
        "gather": {
          "logged": 1668092543053
        }
      }
    },
    {
      "cell_type": "markdown",
      "source": [
        "# Summary\r\n",
        "In this tutorial you learned how to train a model in AML and then use ADX for scoring. \r\n",
        "- ADX scoring is done near the data, on the same ADX compute nodes, enabling near real time processing of big amounts of new data. There is no the need to export the data to external scoring service and import back the results. Consequently, scoring architecture is simpler and performance is much faster and scalable"
      ],
      "metadata": {
        "nteract": {
          "transient": {
            "deleting": false
          }
        }
      }
    }
  ],
  "metadata": {
    "kernelspec": {
      "name": "python38-azureml",
      "language": "python",
      "display_name": "Python 3.8 - AzureML"
    },
    "language_info": {
      "name": "python",
      "version": "3.8.13",
      "mimetype": "text/x-python",
      "codemirror_mode": {
        "name": "ipython",
        "version": 3
      },
      "pygments_lexer": "ipython3",
      "nbconvert_exporter": "python",
      "file_extension": ".py"
    },
    "nteract": {
      "version": "nteract-front-end@1.0.0"
    },
    "kernel_info": {
      "name": "python38-azureml"
    },
    "microsoft": {
      "host": {
        "AzureML": {
          "notebookHasBeenCompleted": true
        }
      }
    }
  },
  "nbformat": 4,
  "nbformat_minor": 0
}