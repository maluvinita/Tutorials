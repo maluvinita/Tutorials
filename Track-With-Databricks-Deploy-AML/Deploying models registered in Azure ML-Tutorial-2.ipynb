{
  "cells": [
    {
      "cell_type": "markdown",
      "source": [
        "# **Deploying models registered in Azure ML**\r\n",
        "\r\n",
        "Once a model is registered in Azure ML, we can deploy them using either the UI interface in Azure ML Studio, the Azure ML CLI v2 from a console, or the azureml-mlflow plugin for MLflow. Use the approach it best suites your needs. Here we will demostrate how to do that using the MLflow deployment plugin."
      ],
      "metadata": {
        "nteract": {
          "transient": {
            "deleting": false
          }
        }
      }
    },
    {
      "cell_type": "markdown",
      "source": [
        "## Deploying models registered in Azure ML to Managed Inference\r\n",
        "\r\n",
        "To make the deployment happen, we will need a deployment client. Deployments can be generated using both the Python API for MLflow or MLflow CLI. In both cases, a JSON configuration file needs to be indicated with the details of the deployment you want to achieve."
      ],
      "metadata": {
        "nteract": {
          "transient": {
            "deleting": false
          }
        }
      }
    },
    {
      "cell_type": "markdown",
      "source": [
        "Run following cells to Configure the variables"
      ],
      "metadata": {
        "nteract": {
          "transient": {
            "deleting": false
          }
        }
      }
    },
    {
      "cell_type": "code",
      "source": [
        "aml_region = \"\"\r\n",
        "subscription_id = \"\"\r\n",
        "aml_resource_group = \"\"\r\n",
        "aml_workspace_name = \"\""
      ],
      "outputs": [],
      "execution_count": null,
      "metadata": {
        "jupyter": {
          "source_hidden": false,
          "outputs_hidden": false
        },
        "nteract": {
          "transient": {
            "deleting": false
          }
        },
        "gather": {
          "logged": 1669654869547
        }
      }
    },
    {
      "cell_type": "code",
      "source": [
        "azureml_mlflow_uri=f\"azureml://{aml_region}.api.azureml.ms/mlflow/v1.0/subscriptions/{subscription_id}/resourceGroups/{aml_resource_group}/providers/Microsoft.MachineLearningServices/workspaces/{aml_workspace_name}\"\r\n",
        "print(azureml_mlflow_uri)"
      ],
      "outputs": [],
      "execution_count": null,
      "metadata": {
        "jupyter": {
          "source_hidden": false,
          "outputs_hidden": false
        },
        "nteract": {
          "transient": {
            "deleting": false
          }
        },
        "gather": {
          "logged": 1669654872797
        }
      }
    },
    {
      "cell_type": "code",
      "source": [
        "import mlflow\r\n",
        "# Indicate to MLflow from where the models need to be pulled from. Currently, the source and target URLs need to be the same.\r\n",
        "mlflow.set_tracking_uri(azureml_mlflow_uri)"
      ],
      "outputs": [],
      "execution_count": null,
      "metadata": {
        "jupyter": {
          "source_hidden": false,
          "outputs_hidden": false
        },
        "nteract": {
          "transient": {
            "deleting": false
          }
        },
        "gather": {
          "logged": 1669656736718
        }
      }
    },
    {
      "cell_type": "code",
      "source": [
        "subscription_id = \"\"\r\n",
        "resource_group = \"\"                   \r\n",
        "workspace_name = \"\" "
      ],
      "outputs": [],
      "execution_count": null,
      "metadata": {
        "jupyter": {
          "source_hidden": false,
          "outputs_hidden": false
        },
        "nteract": {
          "transient": {
            "deleting": false
          }
        }
      }
    },
    {
      "cell_type": "code",
      "source": [
        "from azure.ai.ml import MLClient\r\n",
        "from azure.identity import DefaultAzureCredential\r\n",
        "credential = DefaultAzureCredential()\r\n",
        "#Get a handle to the workspace\r\n",
        "ml_client = MLClient(\r\n",
        "    credential=credential,\r\n",
        "    subscription_id=subscription_id,\r\n",
        "    resource_group_name=resource_group,\r\n",
        "    workspace_name=workspace_name,\r\n",
        ")"
      ],
      "outputs": [],
      "execution_count": null,
      "metadata": {
        "jupyter": {
          "source_hidden": false,
          "outputs_hidden": false
        },
        "nteract": {
          "transient": {
            "deleting": false
          }
        },
        "gather": {
          "logged": 1669657168870
        }
      }
    },
    {
      "cell_type": "markdown",
      "source": [
        "## Deploying the registered model"
      ],
      "metadata": {
        "nteract": {
          "transient": {
            "deleting": false
          }
        }
      }
    },
    {
      "cell_type": "code",
      "source": [
        "from azure.ai.ml.entities import ManagedOnlineEndpoint, ManagedOnlineDeployment, Model\r\n",
        "from azure.ai.ml.constants import AssetTypes\r\n",
        "\r\n",
        "model_name = 'databricks-diabetes-prediction'\r\n",
        "model_uri = \"models:/databricks-diabetes-prediction/1\""
      ],
      "outputs": [],
      "execution_count": null,
      "metadata": {
        "jupyter": {
          "source_hidden": false,
          "outputs_hidden": false
        },
        "nteract": {
          "transient": {
            "deleting": false
          }
        },
        "gather": {
          "logged": 1669657228866
        }
      }
    },
    {
      "cell_type": "markdown",
      "source": [
        "## Download the model locally\r\n",
        "\r\n",
        "The following downloads the model from your Databricks workspace to your local machine."
      ],
      "metadata": {
        "nteract": {
          "transient": {
            "deleting": false
          }
        }
      }
    },
    {
      "cell_type": "code",
      "source": [
        "import os\r\n",
        "try:\r\n",
        "    os.mkdir(model_name)\r\n",
        "except:\r\n",
        "    None\r\n",
        "model_path = mlflow.tracking.artifact_utils._download_artifact_from_uri(artifact_uri=model_uri, output_path=model_name)"
      ],
      "outputs": [],
      "execution_count": null,
      "metadata": {
        "jupyter": {
          "source_hidden": false,
          "outputs_hidden": false
        },
        "nteract": {
          "transient": {
            "deleting": false
          }
        },
        "gather": {
          "logged": 1669656754004
        }
      }
    },
    {
      "cell_type": "markdown",
      "source": [
        "## Load local MLFlow model\r\n",
        "In the following, the Model class is used to package the model for use with Docker and later for deployment as a real-time endpoint."
      ],
      "metadata": {
        "nteract": {
          "transient": {
            "deleting": false
          }
        }
      }
    },
    {
      "cell_type": "code",
      "source": [
        "mlflow_model = Model(\r\n",
        "    path=model_path,\r\n",
        "    type=AssetTypes.MLFLOW_MODEL,\r\n",
        "    name=model_name,\r\n",
        "    description=\"Model deployed with V2\"\r\n",
        ")"
      ],
      "outputs": [],
      "execution_count": null,
      "metadata": {
        "jupyter": {
          "source_hidden": false,
          "outputs_hidden": false
        },
        "nteract": {
          "transient": {
            "deleting": false
          }
        },
        "gather": {
          "logged": 1669656833353
        }
      }
    },
    {
      "cell_type": "markdown",
      "source": [
        "## Create an Azure ML managed online endpoint\r\n",
        "\r\n",
        "After we load the model, we can create a managed online endpoint for deployment."
      ],
      "metadata": {
        "nteract": {
          "transient": {
            "deleting": false
          }
        }
      }
    },
    {
      "cell_type": "code",
      "source": [
        "online_endpoint_name = \"DP-endpoint\"\r\n",
        " \r\n",
        "# create an online endpoint\r\n",
        "endpoint = ManagedOnlineEndpoint(\r\n",
        "    name=online_endpoint_name,\r\n",
        "    description=\"Diabetes prediction endpoint\",\r\n",
        "    #auth_mode=\"key\",\r\n",
        "    tags={\"model\": model_name},\r\n",
        ")\r\n"
      ],
      "outputs": [],
      "execution_count": null,
      "metadata": {
        "jupyter": {
          "source_hidden": false,
          "outputs_hidden": false
        },
        "nteract": {
          "transient": {
            "deleting": false
          }
        },
        "gather": {
          "logged": 1669656917897
        }
      }
    },
    {
      "cell_type": "code",
      "source": [
        "ml_client.begin_create_or_update(endpoint)"
      ],
      "outputs": [],
      "execution_count": null,
      "metadata": {
        "jupyter": {
          "source_hidden": false,
          "outputs_hidden": false
        },
        "nteract": {
          "transient": {
            "deleting": false
          }
        },
        "gather": {
          "logged": 1669656985714
        }
      }
    },
    {
      "cell_type": "markdown",
      "source": [
        "## Deploy registered model to managed online endpoint\r\n",
        "\r\n",
        "Now that we have ve created an endpoint, we can create a deployment on it. Azure Machine Learning manage online endpoints can have one or multiple deployments and traffic can be configured for each deployment. In this example, we create only one deployment to serve all the traffic, named sklearn-deployment."
      ],
      "metadata": {
        "nteract": {
          "transient": {
            "deleting": false
          }
        }
      }
    },
    {
      "cell_type": "code",
      "source": [
        "sklearn_deployment = ManagedOnlineDeployment(\r\n",
        "                      name=\"sklearn-deployment\",\r\n",
        "                      endpoint_name=online_endpoint_name,\r\n",
        "                      model=mlflow_model,\r\n",
        "                      instance_type=\"Standard_DS2_v2\",\r\n",
        "                      instance_count=1,\r\n",
        "                  )"
      ],
      "outputs": [],
      "execution_count": null,
      "metadata": {
        "jupyter": {
          "source_hidden": false,
          "outputs_hidden": false
        },
        "nteract": {
          "transient": {
            "deleting": false
          }
        },
        "gather": {
          "logged": 1669656992367
        }
      }
    },
    {
      "cell_type": "code",
      "source": [
        "ml_client.begin_create_or_update(sklearn_deployment)\r\n",
        "endpoint.traffic = {\"sklearn-deployment\": 100}\r\n",
        "ml_client.begin_create_or_update(endpoint)"
      ],
      "outputs": [],
      "execution_count": null,
      "metadata": {
        "jupyter": {
          "source_hidden": false,
          "outputs_hidden": false
        },
        "nteract": {
          "transient": {
            "deleting": false
          }
        },
        "gather": {
          "logged": 1669712285270
        }
      }
    },
    {
      "cell_type": "markdown",
      "source": [
        "```\r\n",
        "Got this error while deployed the registered model\r\n",
        "```\r\n",
        "ImportError: cannot import name 'parse_json_input' from 'mlflow.pyfunc.scoring_server' (/opt/miniconda/envs/userenv/lib/python3.8/site-packages/mlflow/pyfunc/scoring_server/__init__.py). Didn't find a solution I think this is a bug which needs to be resolved!\r\n",
        "\r\n",
        "found another tutorial[https://learn.microsoft.com/en-us/azure/databricks/_static/notebooks/mlflow/mlflow-quick-start-deployment-azure.html], does the same job but this also got the same error!"
      ],
      "metadata": {
        "nteract": {
          "transient": {
            "deleting": false
          }
        }
      }
    }
  ],
  "metadata": {
    "kernelspec": {
      "name": "python38-azureml",
      "language": "python",
      "display_name": "Python 3.8 - AzureML"
    },
    "language_info": {
      "name": "python",
      "version": "3.8.5",
      "mimetype": "text/x-python",
      "codemirror_mode": {
        "name": "ipython",
        "version": 3
      },
      "pygments_lexer": "ipython3",
      "nbconvert_exporter": "python",
      "file_extension": ".py"
    },
    "kernel_info": {
      "name": "python38-azureml"
    },
    "microsoft": {
      "host": {
        "AzureML": {
          "notebookHasBeenCompleted": true
        }
      }
    },
    "nteract": {
      "version": "nteract-front-end@1.0.0"
    }
  },
  "nbformat": 4,
  "nbformat_minor": 2
}